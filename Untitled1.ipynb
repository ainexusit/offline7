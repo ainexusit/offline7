{
 "cells": [
  {
   "cell_type": "code",
   "execution_count": 1,
   "id": "04f0dfbb-3ed3-456c-a18b-a4fcedbcae62",
   "metadata": {},
   "outputs": [
    {
     "name": "stdout",
     "output_type": "stream",
     "text": [
      "CSV file 'product_data.csv' has been created.\n"
     ]
    }
   ],
   "source": [
    "import pandas as pd\n",
    "import random\n",
    "\n",
    "# Generate synthetic product data\n",
    "num_records = 100\n",
    "categories = [\"Electronics\", \"Clothing\", \"Home\", \"Sports\", \"Beauty\", \"Books\", \"Toys\", \"Automotive\"]\n",
    "\n",
    "def random_product_name():\n",
    "    adjectives = [\"Super\", \"Ultra\", \"Mega\", \"Smart\", \"Eco\", \"Power\", \"Turbo\", \"Lite\"]\n",
    "    nouns = [\"Phone\", \"Shirt\", \"Vacuum\", \"Bike\", \"Lotion\", \"Novel\", \"Drone\", \"Camera\", \"Speaker\", \"Watch\"]\n",
    "    return f\"{random.choice(adjectives)} {random.choice(nouns)}\"\n",
    "\n",
    "data = {\n",
    "    \"prdid\": [f\"P{str(i).zfill(4)}\" for i in range(1, num_records + 1)],\n",
    "    \"prdname\": [random_product_name() for _ in range(num_records)],\n",
    "    \"prdsales\": [round(random.uniform(100.0, 10000.0), 2) for _ in range(num_records)],\n",
    "    \"prdcatagory\": [random.choice(categories) for _ in range(num_records)]\n",
    "}\n",
    "\n",
    "df = pd.DataFrame(data)\n",
    "\n",
    "# Save to CSV\n",
    "df.to_csv(\"product_data.csv\", index=False)\n",
    "print(\"CSV file 'product_data.csv' has been created.\")\n"
   ]
  },
  {
   "cell_type": "code",
   "execution_count": null,
   "id": "c8d451ae-7aee-43cc-8e1c-9a13c03037b9",
   "metadata": {},
   "outputs": [],
   "source": []
  }
 ],
 "metadata": {
  "kernelspec": {
   "display_name": "Python 3 (ipykernel)",
   "language": "python",
   "name": "python3"
  },
  "language_info": {
   "codemirror_mode": {
    "name": "ipython",
    "version": 3
   },
   "file_extension": ".py",
   "mimetype": "text/x-python",
   "name": "python",
   "nbconvert_exporter": "python",
   "pygments_lexer": "ipython3",
   "version": "3.12.7"
  }
 },
 "nbformat": 4,
 "nbformat_minor": 5
}
